{
 "cells": [
  {
   "cell_type": "code",
   "execution_count": 3,
   "metadata": {},
   "outputs": [
    {
     "ename": "UnicodeDecodeError",
     "evalue": "'shift_jis' codec can't decode byte 0xef in position 0: illegal multibyte sequence",
     "output_type": "error",
     "traceback": [
      "\u001b[1;31m---------------------------------------------------------------------------\u001b[0m",
      "\u001b[1;31mUnicodeDecodeError\u001b[0m                        Traceback (most recent call last)",
      "Cell \u001b[1;32mIn[3], line 8\u001b[0m\n\u001b[0;32m      5\u001b[0m s2 \u001b[38;5;241m=\u001b[39m \u001b[38;5;124m\"\u001b[39m\u001b[38;5;124mhttps://r-1317.github.io/portfolio2/\u001b[39m\u001b[38;5;124m\"\u001b[39m\n\u001b[0;32m      6\u001b[0m s3 \u001b[38;5;241m=\u001b[39m \u001b[38;5;124m\"\u001b[39m\u001b[38;5;124mhttps://asahi.5ch.net/newsplus/dat/1703420273.dat\u001b[39m\u001b[38;5;124m\"\u001b[39m\n\u001b[1;32m----> 8\u001b[0m \u001b[38;5;28mprint\u001b[39m(\u001b[43mmain\u001b[49m\u001b[38;5;241;43m.\u001b[39;49m\u001b[43mget_dat\u001b[49m\u001b[43m(\u001b[49m\u001b[43ms2\u001b[49m\u001b[43m)\u001b[49m)\n",
      "File \u001b[1;32mc:\\Users\\81906\\Documents\\2年\\プログラミング1\\ThreadConnector\\ThreadConnector.py:42\u001b[0m, in \u001b[0;36mget_dat\u001b[1;34m(url)\u001b[0m\n\u001b[0;32m     40\u001b[0m   dat_status \u001b[38;5;241m=\u001b[39m \u001b[38;5;28;01mTrue\u001b[39;00m\n\u001b[0;32m     41\u001b[0m   dat \u001b[38;5;241m=\u001b[39m dat_res\u001b[38;5;241m.\u001b[39mcontent\n\u001b[1;32m---> 42\u001b[0m   dat \u001b[38;5;241m=\u001b[39m \u001b[43mdat\u001b[49m\u001b[38;5;241;43m.\u001b[39;49m\u001b[43mdecode\u001b[49m\u001b[43m(\u001b[49m\u001b[43mencoding\u001b[49m\u001b[43m \u001b[49m\u001b[38;5;241;43m=\u001b[39;49m\u001b[43m \u001b[49m\u001b[38;5;124;43m\"\u001b[39;49m\u001b[38;5;124;43mshift_jis\u001b[39;49m\u001b[38;5;124;43m\"\u001b[39;49m\u001b[43m)\u001b[49m\u001b[38;5;66;03m#バイト列を文字列(Shift-JIS)に変換\u001b[39;00m\n\u001b[0;32m     43\u001b[0m \u001b[38;5;28mprint\u001b[39m(\u001b[38;5;28mtype\u001b[39m(dat))\u001b[38;5;66;03m# test\u001b[39;00m\n\u001b[0;32m     44\u001b[0m \u001b[38;5;66;03m#test##############使い回しできそう########################\u001b[39;00m\n\u001b[0;32m     45\u001b[0m \u001b[38;5;66;03m# with open(\"test.txt\", mode=\"wb\") as file:\u001b[39;00m\n\u001b[0;32m     46\u001b[0m \u001b[38;5;66;03m#   file.write(dat)\u001b[39;00m\n",
      "\u001b[1;31mUnicodeDecodeError\u001b[0m: 'shift_jis' codec can't decode byte 0xef in position 0: illegal multibyte sequence"
     ]
    }
   ],
   "source": [
    "%reset -f\n",
    "import ThreadConnector as main\n",
    "\n",
    "s = \"https://hayabusa.open2ch.net/livejupiter/dat/1703337908.dat\"\n",
    "s2 = \"https://r-1317.github.io/portfolio2/\"\n",
    "s3 = \"https://asahi.5ch.net/newsplus/dat/1703420273.dat\"\n",
    "\n",
    "print(main.get_dat(s2))"
   ]
  },
  {
   "cell_type": "code",
   "execution_count": 2,
   "metadata": {},
   "outputs": [
    {
     "name": "stdout",
     "output_type": "stream",
     "text": [
      "https://asahi.5ch.net/newsplus/dat/1703420273.dat\n"
     ]
    }
   ],
   "source": [
    "%reset -f\n",
    "import ThreadConnector as main\n",
    "\n",
    "print(main.convert_url(\"https://asahi.5ch.net/test/read.cgi/newsplus/1703420273\"))"
   ]
  },
  {
   "cell_type": "code",
   "execution_count": 8,
   "metadata": {},
   "outputs": [
    {
     "name": "stdout",
     "output_type": "stream",
     "text": [
      "True\n",
      "123\n"
     ]
    }
   ],
   "source": [
    "def f1():\n",
    "  return(True, 123)\n",
    "\n",
    "a = False\n",
    "b = 0\n",
    "a,b = f1()\n",
    "print(a)\n",
    "print(b)"
   ]
  }
 ],
 "metadata": {
  "kernelspec": {
   "display_name": "Python 3",
   "language": "python",
   "name": "python3"
  },
  "language_info": {
   "codemirror_mode": {
    "name": "ipython",
    "version": 3
   },
   "file_extension": ".py",
   "mimetype": "text/x-python",
   "name": "python",
   "nbconvert_exporter": "python",
   "pygments_lexer": "ipython3",
   "version": "3.11.4"
  }
 },
 "nbformat": 4,
 "nbformat_minor": 2
}
