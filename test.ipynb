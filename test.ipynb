{
 "cells": [
  {
   "cell_type": "code",
   "execution_count": 1,
   "metadata": {},
   "outputs": [
    {
     "name": "stdout",
     "output_type": "stream",
     "text": [
      "<class 'bytes'>\n",
      "True\n"
     ]
    }
   ],
   "source": [
    "%reset -f\n",
    "import ThreadConnector as main\n",
    "\n",
    "s = \"https://hayabusa.open2ch.net/livejupiter/dat/1703337908.dat\"\n",
    "\n",
    "print(main.get_dat(s))"
   ]
  },
  {
   "cell_type": "code",
   "execution_count": 8,
   "metadata": {},
   "outputs": [
    {
     "name": "stdout",
     "output_type": "stream",
     "text": [
      "True\n",
      "123\n"
     ]
    }
   ],
   "source": [
    "def f1():\n",
    "  return(True, 123)\n",
    "\n",
    "a = False\n",
    "b = 0\n",
    "a,b = f1()\n",
    "print(a)\n",
    "print(b)"
   ]
  }
 ],
 "metadata": {
  "kernelspec": {
   "display_name": "Python 3",
   "language": "python",
   "name": "python3"
  },
  "language_info": {
   "codemirror_mode": {
    "name": "ipython",
    "version": 3
   },
   "file_extension": ".py",
   "mimetype": "text/x-python",
   "name": "python",
   "nbconvert_exporter": "python",
   "pygments_lexer": "ipython3",
   "version": "3.11.4"
  }
 },
 "nbformat": 4,
 "nbformat_minor": 2
}
