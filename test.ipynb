{
 "cells": [
  {
   "cell_type": "code",
   "execution_count": 2,
   "metadata": {},
   "outputs": [
    {
     "name": "stdout",
     "output_type": "stream",
     "text": [
      "<class 'str'>\n",
      "(True, 'ばーど ★<><>2023/12/24(日) 21:17:53.99 ID:/WwJAexx9<> 23日午前5時50分ごろ、沖縄県浦添市伊祖の国道330号北向け車線で、走行中の10トントラックの左後輪タイヤが車体から外れ、後続のスクールバスなど計4台がタイヤに衝突したり、乗り上げたりする事故があった。当時、スクールバスには生徒は乗っておらず、けが人は確認されていない。浦添署が事故原因を調べている。 <br>  <br> 署によると、タイヤは直径約1メートル。後輪の内側のタイヤが何らかの理由で外れ、後続のスクールバスと配送トラック、軽自動車2台がタイヤと衝突した。 <br>  <br> トラックを所有する運送会社の関係者によると、トラックは食料品の貨物を載せて、配送先へ向かっていた。定期点検で異常は見つかっていなかったという。 <br>  <br> 現場は片側2車線の直線道路。午前6時ごろから約2時間20分間、交通規制され、最大3キロの渋滞が起きた。 <br>  <br> 12/24(日) 8:52\\u3000沖縄タイムス <br> https://news.yahoo.co.jp/articles/c7d24b21dc7babf9ecde6e1b00598139217da193 <br> n <>【沖縄】10トントラック走行中、直径1メートルのタイヤが外れ後続の4台に衝突\\u3000けが人なし\\u3000浦添市  [ばーど★]\\nウィズコロナの名無しさん<><>2023/12/24(日) 21:19:01.47 ID:0A9CSFHr0<> マリオカートみたいな感じか <>\\nウィズコロナの名無しさん<><>2023/12/24(日) 21:19:05.23 ID:H8ndCEHs0<> 整備不良か？ <>\\nウィズコロナの名無しさん<>sage<>2023/12/24(日) 21:19:23.21 ID:r9PEGvPU0<> 三菱？ <>\\nウィズコロナの名無しさん<>sage<>2023/12/24(日) 21:19:47.73 ID:r20UXLGQ0<> 次のメーカーはなんだろな？ヨイショっと♪ <>\\nウィズコロナの名無しさん<><>2023/12/24(日) 21:19:48.36 ID:tWr5H3NG0<> <a href=\"../test/read.cgi/newsplus/1703420273/1\" rel=\"noopener noreferrer\" target=\"_blank\">&gt;&gt;1</a> <br> けがなくてよかった <>\\nウィズコロナの名無しさん<>sage<>2023/12/24(日) 21:19:50.80 ID:lKLCw19q0<> 乗車前点検不足だな <>\\nウィズコロナの名無しさん<>sage<>2023/12/24(日) 21:19:51.98 ID:B6tKY5o40<> 札幌みたいなことしてるな <>\\nウィズコロナの名無しさん<>sage<>2023/12/24(日) 21:21:23.67 ID:sE4pfGhY0<> また左後輪だろ <br> ボルトが緩んでいく日本独自の欠陥規格 <>\\nウィズコロナの名無しさん<><>2023/12/24(日) 21:22:05.73 ID:4WR9hVIH0<> 沖縄はふゆタイヤに交換しないだろ <>\\nウィズコロナの名無しさん<><>2023/12/24(日) 21:22:51.92 ID:NcDJtYXp0<> またISOか <>\\n朝鮮漬 </b>◆A9o2GkvA8V2W <b><><>2023/12/24(日) 21:23:05.28 ID:FAfETEtD0<> 防衛予算でタイヤミサイル乱射やのう <br>  <br> (^。^)y-.。o○ <>\\nウィズコロナの名無しさん<><>2023/12/24(日) 21:23:09.61 ID:0OKUFtmb0<> 流行ってるな <>\\nウィズコロナの名無しさん<><>2023/12/24(日) 21:23:32.60 ID:CvgaG/9J0<> 怪我人なくてよかった <br> こんなん当たったら勝てる気がしない <>\\nウィズコロナの名無しさん<><>2023/12/24(日) 21:23:34.41 ID:4lm6D1Hu0<> 後輪内側だけどうやったら外れるのかな！ <>\\nウィズコロナの名無しさん<>sage<>2023/12/24(日) 21:24:29.12 ID:r20UXLGQ0<> 緩み防止策はダブルナットとか逆ネジとかスプリングワッシャーとかあとなんかあったっけ？ <>\\nウィズコロナの名無しさん<>sage<>2023/12/24(日) 21:25:27.68 ID:TNVf1obk0<> もういい加減戻せば？ <br> 全部同じ位置のタイヤ外れてんじゃん <>\\nウィズコロナの名無しさん<><>2023/12/24(日) 21:25:27.72 ID:vmWNGFeR0<> ターミネーター2か何か？ <>\\nウィズコロナの名無しさん<>sage<>2023/12/24(日) 21:25:35.82 ID:/5coXR6J0<> 締め付けトルク確認ヨシッ！ <>\\nウィズコロナの名無しさん<>sage<>2023/12/24(日) 21:25:49.53 ID:H15DuPql0<> 浦添市といえば何年か前に米軍関係者による女性殺人事件があったな <>\\nウィズコロナの名無しさん<>sage<>2023/12/24(日) 21:26:19.05 ID:VT6zsneC0<> 事故があった後だから、点検してそうなもんだけどな <>\\nウィズコロナの名無しさん<>sage<>2023/12/24(日) 21:26:54.60 ID:0bH3RuBt0<> 空飛びすぎ <>\\nウィズコロナの名無しさん<>sage<>2023/12/24(日) 21:30:45.88 ID:4MKJLOpE0<> 浦添商業のちかくかな <br> <a href=\"../test/read.cgi/newsplus/1703420273/20\" rel=\"noopener noreferrer\" target=\"_blank\">&gt;&gt;20</a> <br> それうるま市 <>\\nウィズコロナの名無しさん<>sage<>2023/12/24(日) 21:31:41.13 ID:2aybiv1d0<> どのメーカーか書けよ <>\\nウィズコロナの名無しさん<>sage<>2023/12/24(日) 21:33:58.99 ID:2BgT39+r0<> また北海道か <>\\nウィズコロナの名無しさん<><>2023/12/24(日) 21:35:47.52 ID:TCuR3OEc0<> <a href=\"../test/read.cgi/newsplus/1703420273/15\" rel=\"noopener noreferrer\" target=\"_blank\">&gt;&gt;15</a> <br> 記事を書いた記者とデスクと校正係は <br> ダブルタイヤを知らないとしか思えないわな <>\\nウィズコロナの名無しさん<>sage<>2023/12/24(日) 21:35:49.69 ID:c710UHRo0<> <a href=\"../test/read.cgi/newsplus/1703420273/6\" rel=\"noopener noreferrer\" target=\"_blank\">&gt;&gt;6</a> <br> なんやと！！誰がハゲじゃ！！！ <>\\nウィズコロナの名無しさん<>sage<>2023/12/24(日) 21:36:31.80 ID:49hGWu+T0<> 原因はISO規格準拠 <>\\nウィズコロナの名無しさん<><>2023/12/24(日) 21:38:15.04 ID:3aUXuGWg0<> 当たったら痛いや！ <>\\nウィズコロナの名無しさん<>sage<>2023/12/24(日) 21:41:48.64 ID:cJLjKYAC0<> 流行りすぎだろw <>\\nウィズコロナの名無しさん<>sage<>2023/12/24(日) 21:42:47.70 ID:cJLjKYAC0<> だいはつ？ <>\\nウィズコロナの名無しさん<>sage<>2023/12/24(日) 21:42:57.96 ID:RgH7TaDF0<> 扇風機の羽根だって回転と逆ねじになってるのにな <>\\nウィズコロナの名無しさん<><>2023/12/24(日) 21:43:56.20 ID:VR1EgWu20<> https://livedoor.blogimg.jp/vipsister23/imgs/2/c/2c14a445.gif <>\\nウィズコロナの名無しさん<><>2023/12/24(日) 21:44:28.45 ID:6Q7XRytc0<> 三菱、欠陥ハブの交換対策終わってるのか？ <br> デンソーのポンプみたいに交換用とか管理できてなくて未対策なんじゃね？ <>\\nウィズコロナの名無しさん<>sage<>2023/12/24(日) 21:44:37.80 ID:nBpsKYxu0<> ジャップクオリティ <>\\nウィズコロナの名無しさん<>sage<>2023/12/24(日) 21:44:47.26 ID:4MKJLOpE0<> <a href=\"../test/read.cgi/newsplus/1703420273/33\" rel=\"noopener noreferrer\" target=\"_blank\">&gt;&gt;33</a> <br> 工ｴｴｪｪ(´д｀)ｪｪｴｴ工 <>\\nウィズコロナの名無しさん<>sage<>2023/12/24(日) 21:44:58.72 ID:swMhF4bm0<> タイヤにはウサギと馬と鴨が乗ってたとか <>\\nウィズコロナの名無しさん<>sage<>2023/12/24(日) 21:45:48.90 ID:zVAUkEgq0<> <a href=\"../test/read.cgi/newsplus/1703420273/28\" rel=\"noopener noreferrer\" target=\"_blank\">&gt;&gt;28</a> <br> これのせいで構造的に左側の車輪が外れやすくなったとか <br> 国際規格準拠が必ずしも良い事ではないんだな <>\\nウィズコロナの名無しさん<>sage<>2023/12/24(日) 21:45:53.39 ID:20cv0FLq0<> なんくるないさー <>\\nウィズコロナの名無しさん<>sage<>2023/12/24(日) 21:47:51.41 ID:iGcmWh8k0<> ボケカス大阪府住吉警察 <br> あびこ筋の改造マフラー放し飼いにするな <>\\nウィズコロナの名無しさん<>sage<>2023/12/24(日) 21:47:55.80 ID:Jho6J9tk0<> <a href=\"../test/read.cgi/newsplus/1703420273/38\" rel=\"noopener noreferrer\" target=\"_blank\">&gt;&gt;38</a> <br> 国土交通省公明党は何も対策しないよな <>\\nウィズコロナの名無しさん<><>2023/12/24(日) 21:48:27.91 ID:5PamKqP+0<> 路上が仕事場(要はトラックドライバー)を20年近く経験したが <br> こーいうタイヤが外れて惨事みたいな事故、何度か目撃したが <br> 報道されなかったよ <br> いちいち取り上げるほど珍しくないんだろな <>\\nウィズコロナの名無しさん<><>2023/12/24(日) 21:53:43.46 ID:+Of5VVUb0<> やはりISO方式が原因なのか!?\\u300010年で10倍増加！\\u3000頻発する大型トラックのタイヤ脱輪事故の深層 <br> 2022年6月24日 / コラム <br>  <br> https://bestcarweb.jp/feature/column/444346 <>\\nウィズコロナの名無しさん<><>2023/12/24(日) 21:54:13.57 ID:VdzpiWwN0<> 普通は外れる前の前兆で気付くんだけどな <>\\nウィズコロナの名無しさん<>sage<>2023/12/24(日) 21:59:40.97 ID:9glPVjvZ0<> 電車オーバーランよろしくニュースバリューが上がったからタイヤ外れを報道するようになっただけ <br> 以前からしょっちゅう外れてたんだろ <>\\nウィズコロナの名無しさん<>sage<>2023/12/24(日) 22:01:10.24 ID:heF9k2lO0<> 10tのタイヤなんか当たったら死ぬ <br> 4tのタイヤですら持ち上げるの大変だったのに <>\\nウィズコロナの名無しさん<><>2023/12/24(日) 22:02:31.85 ID:rupoDYrn0<> 大きいタイヤが前から転がってきたら怖すぎる <>\\nウィズコロナの名無しさん<>sage<>2023/12/24(日) 22:04:52.61 ID:q7WLiWB00<> <a href=\"../test/read.cgi/newsplus/1703420273/42\" rel=\"noopener noreferrer\" target=\"_blank\">&gt;&gt;42</a> <br> 世の中でおきている事件事故の <br> 1パーセントも報道されてない <br>  <br> 報道とは本来その程度 <br>  <br> それをムキになって <br> 「マスゴミガー！」 <br> 「報道しない自由！」 <br> とかバカ丸出し <>\\nウィズコロナの名無しさん<>sage<>2023/12/24(日) 22:05:39.47 ID:rldIB+GY0<> ISOの規格の欠陥 <>\\nウィズコロナの名無しさん<><>2023/12/24(日) 22:09:33.78 ID:zC6HvYli0<> 空飛ぶタイヤが普通になれば文句言われなくなるしな <br> カルテル業界団体の全体主義だわな <>\\nウィズコロナの名無しさん<>sage<>2023/12/24(日) 22:09:40.37 ID:FrjlOd080<> 寒波だってスタッドレスに履き替えたんだろ <br> 琉球土人は <>\\nウィズコロナの名無しさん<>sage<>2023/12/24(日) 22:14:44.71 ID:khUp7mng0<> <a href=\"../test/read.cgi/newsplus/1703420273/9\" rel=\"noopener noreferrer\" target=\"_blank\">&gt;&gt;9</a> <br> イギリスとかどうしてるんだろう <>\\nウィズコロナの名無しさん<><>2023/12/24(日) 22:16:03.08 ID:XQvRO/510<> 最近タイヤミサイル多いな <>\\nウィズコロナの名無しさん<>sage<>2023/12/24(日) 22:29:27.46 ID:QVIn7yOk0<> 大型車は左折禁止にすれば緩みにくくなる <>\\nウィズコロナの名無しさん<><>2023/12/24(日) 22:47:33.53 ID:YIVKWaR+0<> ほんまや直近のタイヤ事故全部左後輪やん <br> 規格的になんか欠陥あるんか <>\\nウィズコロナの名無しさん<><>2023/12/24(日) 23:24:03.63 ID:MH34kZgX0<> 職業訓練でトラック協会がやってる大型一種のやつ申し込んだけど落ちた <br> もう絶対やってやらんから <br> なにが2024年問題だよハゲ物流なんて止まっちまえよ <>\\nウィズコロナの名無しさん<>sage<>2023/12/24(日) 23:27:58.32 ID:heF9k2lO0<> 定員オーバーしたのでは <>\\nウィズコロナの名無しさん<>sage<>2023/12/24(日) 23:30:27.82 ID:8m/o7iZu0<> ワンダースリー♪ <>\\nウィズコロナの名無しさん<>sage<>2023/12/24(日) 23:36:51.69 ID:L06AIbsv0<> <a href=\"../test/read.cgi/newsplus/1703420273/1\" rel=\"noopener noreferrer\" target=\"_blank\">&gt;&gt;1</a> <br> 沖縄で <br> \\u300010トントラック <br> \\u3000\\u3000安倍しぐさ <>\\nウィズコロナの名無しさん<><>2023/12/24(日) 23:41:29.39 ID:SyxNXFv70<> 最近のタイヤ脱落事故の9割が新ISO方式の装着で、 <br> その多くが左後輪なんでしょ？ <>\\nウィズコロナの名無しさん<>sage<>2023/12/25(月) 00:19:53.63 ID:1oQbHSe20<> おっかねえ、トラックのタイヤなんて飛んで来たら死ねるわ <>\\nウィズコロナの名無しさん<>sage<>2023/12/25(月) 00:22:38.33 ID:MBsuCwRN0<> お前ら別スレじゃこのトラックはISO基準よりもだいぶ古いやつだから違うって言ってただろw <>\\nウィズコロナの名無しさん<>sage<>2023/12/25(月) 00:31:29.93 ID:a3cM1BIS0<> JISって外側を外してからじゃないと内側を緩める事が出来ないなら <br> この訳の判らん記事から察するに <br> 内側が外れってのは外と内が同時にぶっ飛ぶISOな気がする <br> 外のタイヤはすぐに路肩で倒れた <br> 内側のタイヤが色んな物に突撃したのかな？なんて思ってみたり <>\\nウィズコロナの名無しさん<>sage<>2023/12/25(月) 00:42:28.98 ID:0430Lubt0<> 老害に当たれば吉報だったのに <br> https://i.imgur.com/F7mlr8P.jpg <>\\nウィズコロナの名無しさん<><>2023/12/25(月) 00:55:33.66 ID:FWaOMKIE0<> <a href=\"../test/read.cgi/newsplus/1703420273/16\" rel=\"noopener noreferrer\" target=\"_blank\">&gt;&gt;16</a> <br> 航空機みたいにポルトやナットに穴が空いててワイヤー通して締める方向にテンションをかけておくとか。 <>\\nウィズコロナの名無しさん<>sage<>2023/12/25(月) 00:59:07.70 ID:5lV+J6JI0<> <a href=\"../test/read.cgi/newsplus/1703420273/28\" rel=\"noopener noreferrer\" target=\"_blank\">&gt;&gt;28</a> <br> 違法改造よりISＯ規格を禁止すべきだよな <>\\nウィズコロナの名無しさん<><>2023/12/25(月) 01:07:42.86 ID:lY7xN01Y0<> 前に園児に当たったジムニーのタイヤとどっち危険なの？ <>\\nウィズコロナの名無しさん<>sage<>2023/12/25(月) 01:10:39.81 ID:+dZihHpu0<> これ後続が軽だったら怪我人でてた？ <>\\nウィズコロナの名無しさん<>sage<>2023/12/25(月) 01:15:39.11 ID:C10gQ3Tl0<> <a href=\"../test/read.cgi/newsplus/1703420273/65\" rel=\"noopener noreferrer\" target=\"_blank\">&gt;&gt;65</a> <br> なんか割りピン入れるんだっけか？ <>\\nウィズコロナの名無しさん<>age<>2023/12/25(月) 01:23:38.35 ID:q1k4u/is0<> <a href=\"../test/read.cgi/newsplus/1703420273/66\" rel=\"noopener noreferrer\" target=\"_blank\">&gt;&gt;66</a> <br> 国土交通省がメーカーに国内向け(JIS)と輸出用(ISO)で別々に生産させれば良さそうだね <>\\nウィズコロナの名無しさん<>sage<>2023/12/25(月) 01:25:47.51 ID:wO//o14n0<> <a href=\"../test/read.cgi/newsplus/1703420273/48\" rel=\"noopener noreferrer\" target=\"_blank\">&gt;&gt;48</a> <br> そういう話じゃないと思う <br> 今までよく起きてた珍しくない事故が <br> 話題性で取り上げられるようになって <br> まるで急に多発してるように見えるって事だろ <>\\nウィズコロナの名無しさん<><>2023/12/25(月) 01:35:45.73 ID:hSjMFAvx0<> 最近外れすぎだろ <>\\nウィズコロナの名無しさん<><>2023/12/25(月) 01:40:45.62 ID:lY7xN01Y0<> <a href=\"../test/read.cgi/newsplus/1703420273/72\" rel=\"noopener noreferrer\" target=\"_blank\">&gt;&gt;72</a> <br> いやいや <br> 人が死なないからニュースにしてなかっただけだろ <br> 外れただけなら毎日全国の都道府県で一日数件は起きてるだろ <>\\nウィズコロナの名無しさん<>sage<>2023/12/25(月) 02:14:22.49 ID:B3mynz8w0<> 最近多いな <>\\nウィズコロナの名無しさん<><>2023/12/25(月) 02:30:38.31 ID:y53xZhRc0<> <a href=\"../test/read.cgi/newsplus/1703420273/72\" rel=\"noopener noreferrer\" target=\"_blank\">&gt;&gt;72</a> <br> 整備員「ピンハネされすぎてボルトがないんです。」 <br> 客「俺等が払った修理費は？」 <br>  <br>  <br> 会計＆監査「社長のアウディに消えました&#128149;」 <>\\nウィズコロナの名無しさん<><>2023/12/25(月) 02:31:40.86 ID:CFX8xkxJ0<> また、三菱？ <>\\nウィズコロナの名無しさん<><>2023/12/25(月) 02:51:16.67 ID:lY7xN01Y0<> <a href=\"../test/read.cgi/newsplus/1703420273/74\" rel=\"noopener noreferrer\" target=\"_blank\">&gt;&gt;74</a> <br> いや実際には元からこんなもんだよ <>\\nウィズコロナの名無しさん<>sage<>2023/12/25(月) 03:36:52.67 ID:65/tTpQ00<> タイヤとホイール&#128734;て <br> 想像の10倍重たいよね <>\\nウィズコロナの名無しさん<>sage<>2023/12/25(月) 06:13:57.14 ID:Bz+Hbe0W0<> <a href=\"../test/read.cgi/newsplus/1703420273/71\" rel=\"noopener noreferrer\" target=\"_blank\">&gt;&gt;71</a> <br> お前が<a href=\"../test/read.cgi/newsplus/1703420273/48\" rel=\"noopener noreferrer\" target=\"_blank\">&gt;&gt;48</a>が言わんとしてる事分かってないと思う <>\\nウィズコロナの名無しさん<>sage<>2023/12/25(月) 07:02:54.17 ID:d64W8byX0<> この前もタイヤ外れる事故があったよな <br> 確かそっちもトラックだったような <>\\nウィズコロナの名無しさん<><>2023/12/25(月) 11:38:29.49 ID:yRFpqw8x0<> ISOはジャップ規格つぶし <>\\nウィズコロナの名無しさん<>sage<>2023/12/25(月) 13:17:59.95 ID:OPuSM0C00<> 90年代のISO取得ブームに警鐘を鳴らしていたわしの言うこと聞かんからこうなる <>\\nウィズコロナの名無しさん<><>2023/12/25(月) 13:18:21.57 ID:PvTJiSWc0<> <a href=\"../test/read.cgi/newsplus/1703420273/71\" rel=\"noopener noreferrer\" target=\"_blank\">&gt;&gt;71</a> <br> 大型車のタイヤホイール脱落はここ10年で急増してて <br> その理由も明確になってる <>\\nウィズコロナの名無しさん<>sage<>2023/12/25(月) 13:22:56.07 ID:OPuSM0C00<> 日本の生産性を下げている原因ISO規格 <br> 無駄な書類と無駄な監査 <>\\nウィズコロナの名無しさん<><>2023/12/25(月) 13:25:44.34 ID:Lv8jq1nu0<> <a href=\"../test/read.cgi/newsplus/1703420273/77\" rel=\"noopener noreferrer\" target=\"_blank\">&gt;&gt;77</a> <br> お前は情報弱者か？ <br>  <br> 大型車のタイヤ脱落事故発生件数 <br> https://pbs.twimg.com/media/FEdMMMTaAAAQuS8.jpg <>\\nウィズコロナの名無しさん<>sage<>2023/12/25(月) 13:31:48.99 ID:98Vsbgpf0<> <a href=\"../test/read.cgi/newsplus/1703420273/85\" rel=\"noopener noreferrer\" target=\"_blank\">&gt;&gt;85</a> <br> 9年&#65374;13年がたまたまラッキーだったとか… <br> https://i.imgur.com/m2kMiYn.jpg <>\\nウィズコロナの名無しさん<><>2023/12/25(月) 13:40:04.33 ID:BLUJGa+K0<> スクールバスって米軍のやつやな <>\\nウィズコロナの名無しさん<>sage<>2023/12/25(月) 13:46:57.72 ID:sqpYBG2P0<> 空飛ぶタイヤがまだあるのか <>\\n')\n"
     ]
    }
   ],
   "source": [
    "%reset -f\n",
    "import ThreadConnector as main\n",
    "\n",
    "s = \"https://hayabusa.open2ch.net/livejupiter/dat/1703337908.dat\"\n",
    "s2 = \"https://r-1317.github.io/portfolio2/\"\n",
    "s3 = \"https://asahi.5ch.net/newsplus/dat/1703420273.dat\"\n",
    "\n",
    "print(main.get_dat(s3))"
   ]
  },
  {
   "cell_type": "code",
   "execution_count": 3,
   "metadata": {},
   "outputs": [
    {
     "name": "stdout",
     "output_type": "stream",
     "text": [
      "False\n"
     ]
    }
   ],
   "source": [
    "a = 256\n",
    "if  not a:\n",
    "  print(True)\n",
    "else:\n",
    "  print(False)"
   ]
  },
  {
   "cell_type": "code",
   "execution_count": 1,
   "metadata": {},
   "outputs": [
    {
     "name": "stdout",
     "output_type": "stream",
     "text": [
      "datを'test.dat'として保存しました。\n",
      "htmlを'test.html'として保存しました。\n"
     ]
    }
   ],
   "source": [
    "%reset -f\n",
    "import ThreadConnector as main\n",
    "\n",
    "main.output(\"test.dat\", \"aaaaaaaaaaaaaaaaaaaaaaaa\")\n",
    "main.output(\"test.html\", \"bbbbbbbbbbbbbbbbbbbbbbbb\")"
   ]
  },
  {
   "cell_type": "code",
   "execution_count": 2,
   "metadata": {},
   "outputs": [
    {
     "data": {
      "text/plain": [
       "False"
      ]
     },
     "execution_count": 2,
     "metadata": {},
     "output_type": "execute_result"
    }
   ],
   "source": [
    "%reset -f\n",
    "import ThreadConnector as main\n",
    "\n",
    "dat = \"\"\"名無しさん＠おーぷん<><>23/12/23(土) 22:25:08 ID:bx73<> ・アク禁は基本引き継ぎ<br>(引継ぎ確認は<br>https://hayabusa.open2ch.net/test/make_thred.cgi?url=<br>の後にスレのURLを入れれば出来ます)<br>・次スレは&gt;&gt;950<br><br>!jien<br>FA情報<br>山崎福也→日ハム　4年8億円以上（決定）<br>西川龍馬→オリ　5年15億円以上（決定）<br>石田健大→残留（決定）<br>平井克典→残留（決定）<br>山川穂高→SB　4年16億円（決定）<br><br>オプトアウト<br>中田翔→中日　2年6億（決定）<br>トレード<br>西武　宮川哲（投手）　⇔　ヤクルト　元山飛優（内野手）<br>新外国人<br>阪神　ゲラ(28) MAX163km右腕【1.47億】<br>広島　シャイナー(28) 3AHR王内野【1.2億】レイノルズ(32)内野【8300万】 ハッチ(29)MAX157km/h ハーン<br>オリ　マチャド(30) MAX160km右腕【1.35億円】<br>ハム　孫易磊(18) MAX156km右腕【600万】　マーフィ(28)平均153km/h 右腕【総額2.6億】、アニュラス・ザバラ(26) 160kw/h右腕、スティーブンソン（29）外野【1億1000万】<br>SB　デービッド・アルモンテ内野(16) 育成契約【1.45億】<br>ロッテ　ジミー・コルデロ（32）Max167km右腕、ジュニオール・フェルナンデス（26）右腕、ソト（元DeNA）内野<br>西武　フランチー・コルデロ（29）外野【1億】、アルバート・アブレイユ投手(28)【1.5億】ジェフリー・ヤン（27）投手【7500万】、ヘスス・アギラ（33）内野【2億1000万】<br>ヤクルト ヤフーレ(25) 右腕【8250万】、エスパーダ（26）右腕【9900万】<br>DeNA　ウィック（31）右腕【1億1360万】<br>中日　ディッカーソン（33）外野<br>現役ドラフト<br>阪神　漆原大晟（オリックス）<br>広島　内間拓馬（楽天）<br>横浜　佐々木千隼（ロッテ）<br>巨人　馬場皐輔（阪神）<br>ヤク　北村拓己（巨人）<br>中日　梅野雄吾（ヤクルト）<br>オリ　鈴木博志（中日）<br>千葉　愛斗（西武）<br>ソフ　長谷川威展（日本ハム）<br>楽天　桜井周斗（ＤｅＮＡ）<br>西武　中村祐太（広島）<br>ハム　水谷瞬（ソフトバンク）<br><br><br><br><br>前スレ<br>http://hayabusa.open2ch.net/test/read.cgi/livejupiter/1703325570/ <>【12球団総合】プロ野球雑談・議論 Part406\n",
    "名無しさん＠おーぷん<><>23/12/23(土) 22:25:57 ID:RC.c5.L72<> サンハゲ <>\n",
    "名無しさん＠おーぷん<><>23/12/23(土) 22:26:21 ID:QZ.uz.L45<> 3月 <>\n",
    "名無しさん＠おーぷん<><>23/12/23(土) 22:26:45 ID:RC.c5.L72<> あ、恩赦されたんやね <>\n",
    "名無しさん＠おーぷん<><>23/12/23(土) 22:29:13 ID:ID.l6.L34<> 31 <>\n",
    "名無しさん＠おーぷん<><>23/12/23(土) 22:29:21 ID:ID.l6.L34<> 御社ァ！ <>\n",
    "名無しさん＠おーぷん<><>23/12/23(土) 22:29:21 ID:Xp.la.L7<> 31 <>\n",
    "名無しさん＠おーぷん<><>23/12/23(土) 22:29:28 ID:bx.qm.L2<> 長谷川ソフトバンク？！ <>\n",
    "名無しさん＠おーぷん<><>23/12/23(土) 22:30:21 ID:RC.c5.L72<> &gt;&gt;8<br>ソースはら <>\n",
    "名無しさん＠おーぷん<><>23/12/23(土) 22:30:47 ID:bx.qm.L2<> &gt;&gt;9<br>現ドラね <>\n",
    "名無しさん＠おーぷん<><>23/12/23(土) 22:31:09 ID:QZ.uz.L45<> &gt;&gt;9<br>現ドラや <>\n",
    "名無しさん＠おーぷん<><>23/12/23(土) 22:31:11 ID:s7.kq.L64<> つまんね <>\n",
    "名無しさん＠おーぷん<><>23/12/23(土) 22:31:30 ID:bx.qm.L2<> DeNAの命運はバウアーに…？ <>\n",
    "名無しさん＠おーぷん<><>23/12/23(土) 22:31:36 ID:RC.c5.L72<> あげんどらか <>\"\"\"\n",
    "\n",
    "dat2 = \"\"\n",
    "main.find_url(dat2)"
   ]
  },
  {
   "cell_type": "code",
   "execution_count": 2,
   "metadata": {},
   "outputs": [
    {
     "name": "stdout",
     "output_type": "stream",
     "text": [
      "a\n"
     ]
    }
   ],
   "source": [
    "%reset -f\n",
    "import ThreadConnector as main\n",
    "i = 250\n",
    "print(main.manual(i))"
   ]
  },
  {
   "cell_type": "code",
   "execution_count": 5,
   "metadata": {},
   "outputs": [
    {
     "name": "stdout",
     "output_type": "stream",
     "text": [
      "0123456789\n"
     ]
    }
   ],
   "source": [
    "dat = \"123\"\n",
    "connected_dat = \"456789\"\n",
    "\n",
    "start = time.time()\n",
    "connected_dat = dat + connected_dat\n",
    "connected_dat = \"0\" + connected_dat\n",
    "end = time.time\n",
    "print(connected_dat)"
   ]
  },
  {
   "cell_type": "code",
   "execution_count": 2,
   "metadata": {},
   "outputs": [
    {
     "name": "stdout",
     "output_type": "stream",
     "text": [
      "https://asahi.5ch.net/newsplus/dat/1703420273.dat\n"
     ]
    }
   ],
   "source": [
    "%reset -f\n",
    "import ThreadConnector as main\n",
    "\n",
    "print(main.convert_url(\"https://asahi.5ch.net/test/read.cgi/newsplus/1703420273\"))"
   ]
  },
  {
   "cell_type": "code",
   "execution_count": 8,
   "metadata": {},
   "outputs": [
    {
     "name": "stdout",
     "output_type": "stream",
     "text": [
      "True\n",
      "123\n"
     ]
    }
   ],
   "source": [
    "def f1():\n",
    "  return(True, 123)\n",
    "\n",
    "a = False\n",
    "b = 0\n",
    "a,b = f1()\n",
    "print(a)\n",
    "print(b)"
   ]
  },
  {
   "cell_type": "code",
   "execution_count": 3,
   "metadata": {},
   "outputs": [
    {
     "name": "stdout",
     "output_type": "stream",
     "text": [
      "abc.html\n"
     ]
    }
   ],
   "source": [
    "filename = \"abc.dat\"\n",
    "\n",
    "html_filename = filename[:-3] + \"html\"\n",
    "print(html_filename)"
   ]
  }
 ],
 "metadata": {
  "kernelspec": {
   "display_name": "Python 3",
   "language": "python",
   "name": "python3"
  },
  "language_info": {
   "codemirror_mode": {
    "name": "ipython",
    "version": 3
   },
   "file_extension": ".py",
   "mimetype": "text/x-python",
   "name": "python",
   "nbconvert_exporter": "python",
   "pygments_lexer": "ipython3",
   "version": "3.11.4"
  }
 },
 "nbformat": 4,
 "nbformat_minor": 2
}
