{
 "cells": [
  {
   "cell_type": "code",
   "execution_count": 2,
   "metadata": {},
   "outputs": [
    {
     "name": "stdout",
     "output_type": "stream",
     "text": [
      "<class 'str'>\n",
      "(True, 'ばーど ★<><>2023/12/24(日) 21:17:53.99 ID:/WwJAexx9<> 23日午前5時50分ごろ、沖縄県浦添市伊祖の国道330号北向け車線で、走行中の10トントラックの左後輪タイヤが車体から外れ、後続のスクールバスなど計4台がタイヤに衝突したり、乗り上げたりする事故があった。当時、スクールバスには生徒は乗っておらず、けが人は確認されていない。浦添署が事故原因を調べている。 <br>  <br> 署によると、タイヤは直径約1メートル。後輪の内側のタイヤが何らかの理由で外れ、後続のスクールバスと配送トラック、軽自動車2台がタイヤと衝突した。 <br>  <br> トラックを所有する運送会社の関係者によると、トラックは食料品の貨物を載せて、配送先へ向かっていた。定期点検で異常は見つかっていなかったという。 <br>  <br> 現場は片側2車線の直線道路。午前6時ごろから約2時間20分間、交通規制され、最大3キロの渋滞が起きた。 <br>  <br> 12/24(日) 8:52\\u3000沖縄タイムス <br> https://news.yahoo.co.jp/articles/c7d24b21dc7babf9ecde6e1b00598139217da193 <br> n <>【沖縄】10トントラック走行中、直径1メートルのタイヤが外れ後続の4台に衝突\\u3000けが人なし\\u3000浦添市  [ばーど★]\\nウィズコロナの名無しさん<><>2023/12/24(日) 21:19:01.47 ID:0A9CSFHr0<> マリオカートみたいな感じか <>\\nウィズコロナの名無しさん<><>2023/12/24(日) 21:19:05.23 ID:H8ndCEHs0<> 整備不良か？ <>\\nウィズコロナの名無しさん<>sage<>2023/12/24(日) 21:19:23.21 ID:r9PEGvPU0<> 三菱？ <>\\nウィズコロナの名無しさん<>sage<>2023/12/24(日) 21:19:47.73 ID:r20UXLGQ0<> 次のメーカーはなんだろな？ヨイショっと♪ <>\\nウィズコロナの名無しさん<><>2023/12/24(日) 21:19:48.36 ID:tWr5H3NG0<> <a href=\"../test/read.cgi/newsplus/1703420273/1\" rel=\"noopener noreferrer\" target=\"_blank\">&gt;&gt;1</a> <br> けがなくてよかった <>\\nウィズコロナの名無しさん<>sage<>2023/12/24(日) 21:19:50.80 ID:lKLCw19q0<> 乗車前点検不足だな <>\\nウィズコロナの名無しさん<>sage<>2023/12/24(日) 21:19:51.98 ID:B6tKY5o40<> 札幌みたいなことしてるな <>\\nウィズコロナの名無しさん<>sage<>2023/12/24(日) 21:21:23.67 ID:sE4pfGhY0<> また左後輪だろ <br> ボルトが緩んでいく日本独自の欠陥規格 <>\\nウィズコロナの名無しさん<><>2023/12/24(日) 21:22:05.73 ID:4WR9hVIH0<> 沖縄はふゆタイヤに交換しないだろ <>\\nウィズコロナの名無しさん<><>2023/12/24(日) 21:22:51.92 ID:NcDJtYXp0<> またISOか <>\\n朝鮮漬 </b>◆A9o2GkvA8V2W <b><><>2023/12/24(日) 21:23:05.28 ID:FAfETEtD0<> 防衛予算でタイヤミサイル乱射やのう <br>  <br> (^。^)y-.。o○ <>\\nウィズコロナの名無しさん<><>2023/12/24(日) 21:23:09.61 ID:0OKUFtmb0<> 流行ってるな <>\\nウィズコロナの名無しさん<><>2023/12/24(日) 21:23:32.60 ID:CvgaG/9J0<> 怪我人なくてよかった <br> こんなん当たったら勝てる気がしない <>\\nウィズコロナの名無しさん<><>2023/12/24(日) 21:23:34.41 ID:4lm6D1Hu0<> 後輪内側だけどうやったら外れるのかな！ <>\\nウィズコロナの名無しさん<>sage<>2023/12/24(日) 21:24:29.12 ID:r20UXLGQ0<> 緩み防止策はダブルナットとか逆ネジとかスプリングワッシャーとかあとなんかあったっけ？ <>\\nウィズコロナの名無しさん<>sage<>2023/12/24(日) 21:25:27.68 ID:TNVf1obk0<> もういい加減戻せば？ <br> 全部同じ位置のタイヤ外れてんじゃん <>\\nウィズコロナの名無しさん<><>2023/12/24(日) 21:25:27.72 ID:vmWNGFeR0<> ターミネーター2か何か？ <>\\nウィズコロナの名無しさん<>sage<>2023/12/24(日) 21:25:35.82 ID:/5coXR6J0<> 締め付けトルク確認ヨシッ！ <>\\nウィズコロナの名無しさん<>sage<>2023/12/24(日) 21:25:49.53 ID:H15DuPql0<> 浦添市といえば何年か前に米軍関係者による女性殺人事件があったな <>\\nウィズコロナの名無しさん<>sage<>2023/12/24(日) 21:26:19.05 ID:VT6zsneC0<> 事故があった後だから、点検してそうなもんだけどな <>\\nウィズコロナの名無しさん<>sage<>2023/12/24(日) 21:26:54.60 ID:0bH3RuBt0<> 空飛びすぎ <>\\nウィズコロナの名無しさん<>sage<>2023/12/24(日) 21:30:45.88 ID:4MKJLOpE0<> 浦添商業のちかくかな <br> <a href=\"../test/read.cgi/newsplus/1703420273/20\" rel=\"noopener noreferrer\" target=\"_blank\">&gt;&gt;20</a> <br> それうるま市 <>\\nウィズコロナの名無しさん<>sage<>2023/12/24(日) 21:31:41.13 ID:2aybiv1d0<> どのメーカーか書けよ <>\\nウィズコロナの名無しさん<>sage<>2023/12/24(日) 21:33:58.99 ID:2BgT39+r0<> また北海道か <>\\nウィズコロナの名無しさん<><>2023/12/24(日) 21:35:47.52 ID:TCuR3OEc0<> <a href=\"../test/read.cgi/newsplus/1703420273/15\" rel=\"noopener noreferrer\" target=\"_blank\">&gt;&gt;15</a> <br> 記事を書いた記者とデスクと校正係は <br> ダブルタイヤを知らないとしか思えないわな <>\\nウィズコロナの名無しさん<>sage<>2023/12/24(日) 21:35:49.69 ID:c710UHRo0<> <a href=\"../test/read.cgi/newsplus/1703420273/6\" rel=\"noopener noreferrer\" target=\"_blank\">&gt;&gt;6</a> <br> なんやと！！誰がハゲじゃ！！！ <>\\nウィズコロナの名無しさん<>sage<>2023/12/24(日) 21:36:31.80 ID:49hGWu+T0<> 原因はISO規格準拠 <>\\nウィズコロナの名無しさん<><>2023/12/24(日) 21:38:15.04 ID:3aUXuGWg0<> 当たったら痛いや！ <>\\nウィズコロナの名無しさん<>sage<>2023/12/24(日) 21:41:48.64 ID:cJLjKYAC0<> 流行りすぎだろw <>\\nウィズコロナの名無しさん<>sage<>2023/12/24(日) 21:42:47.70 ID:cJLjKYAC0<> だいはつ？ <>\\nウィズコロナの名無しさん<>sage<>2023/12/24(日) 21:42:57.96 ID:RgH7TaDF0<> 扇風機の羽根だって回転と逆ねじになってるのにな <>\\nウィズコロナの名無しさん<><>2023/12/24(日) 21:43:56.20 ID:VR1EgWu20<> https://livedoor.blogimg.jp/vipsister23/imgs/2/c/2c14a445.gif <>\\nウィズコロナの名無しさん<><>2023/12/24(日) 21:44:28.45 ID:6Q7XRytc0<> 三菱、欠陥ハブの交換対策終わってるのか？ <br> デンソーのポンプみたいに交換用とか管理できてなくて未対策なんじゃね？ <>\\nウィズコロナの名無しさん<>sage<>2023/12/24(日) 21:44:37.80 ID:nBpsKYxu0<> ジャップクオリティ <>\\nウィズコロナの名無しさん<>sage<>2023/12/24(日) 21:44:47.26 ID:4MKJLOpE0<> <a href=\"../test/read.cgi/newsplus/1703420273/33\" rel=\"noopener noreferrer\" target=\"_blank\">&gt;&gt;33</a> <br> 工ｴｴｪｪ(´д｀)ｪｪｴｴ工 <>\\nウィズコロナの名無しさん<>sage<>2023/12/24(日) 21:44:58.72 ID:swMhF4bm0<> タイヤにはウサギと馬と鴨が乗ってたとか <>\\nウィズコロナの名無しさん<>sage<>2023/12/24(日) 21:45:48.90 ID:zVAUkEgq0<> <a href=\"../test/read.cgi/newsplus/1703420273/28\" rel=\"noopener noreferrer\" target=\"_blank\">&gt;&gt;28</a> <br> これのせいで構造的に左側の車輪が外れやすくなったとか <br> 国際規格準拠が必ずしも良い事ではないんだな <>\\nウィズコロナの名無しさん<>sage<>2023/12/24(日) 21:45:53.39 ID:20cv0FLq0<> なんくるないさー <>\\nウィズコロナの名無しさん<>sage<>2023/12/24(日) 21:47:51.41 ID:iGcmWh8k0<> ボケカス大阪府住吉警察 <br> あびこ筋の改造マフラー放し飼いにするな <>\\nウィズコロナの名無しさん<>sage<>2023/12/24(日) 21:47:55.80 ID:Jho6J9tk0<> <a href=\"../test/read.cgi/newsplus/1703420273/38\" rel=\"noopener noreferrer\" target=\"_blank\">&gt;&gt;38</a> <br> 国土交通省公明党は何も対策しないよな <>\\nウィズコロナの名無しさん<><>2023/12/24(日) 21:48:27.91 ID:5PamKqP+0<> 路上が仕事場(要はトラックドライバー)を20年近く経験したが <br> こーいうタイヤが外れて惨事みたいな事故、何度か目撃したが <br> 報道されなかったよ <br> いちいち取り上げるほど珍しくないんだろな <>\\nウィズコロナの名無しさん<><>2023/12/24(日) 21:53:43.46 ID:+Of5VVUb0<> やはりISO方式が原因なのか!?\\u300010年で10倍増加！\\u3000頻発する大型トラックのタイヤ脱輪事故の深層 <br> 2022年6月24日 / コラム <br>  <br> https://bestcarweb.jp/feature/column/444346 <>\\nウィズコロナの名無しさん<><>2023/12/24(日) 21:54:13.57 ID:VdzpiWwN0<> 普通は外れる前の前兆で気付くんだけどな <>\\nウィズコロナの名無しさん<>sage<>2023/12/24(日) 21:59:40.97 ID:9glPVjvZ0<> 電車オーバーランよろしくニュースバリューが上がったからタイヤ外れを報道するようになっただけ <br> 以前からしょっちゅう外れてたんだろ <>\\nウィズコロナの名無しさん<>sage<>2023/12/24(日) 22:01:10.24 ID:heF9k2lO0<> 10tのタイヤなんか当たったら死ぬ <br> 4tのタイヤですら持ち上げるの大変だったのに <>\\nウィズコロナの名無しさん<><>2023/12/24(日) 22:02:31.85 ID:rupoDYrn0<> 大きいタイヤが前から転がってきたら怖すぎる <>\\nウィズコロナの名無しさん<>sage<>2023/12/24(日) 22:04:52.61 ID:q7WLiWB00<> <a href=\"../test/read.cgi/newsplus/1703420273/42\" rel=\"noopener noreferrer\" target=\"_blank\">&gt;&gt;42</a> <br> 世の中でおきている事件事故の <br> 1パーセントも報道されてない <br>  <br> 報道とは本来その程度 <br>  <br> それをムキになって <br> 「マスゴミガー！」 <br> 「報道しない自由！」 <br> とかバカ丸出し <>\\nウィズコロナの名無しさん<>sage<>2023/12/24(日) 22:05:39.47 ID:rldIB+GY0<> ISOの規格の欠陥 <>\\nウィズコロナの名無しさん<><>2023/12/24(日) 22:09:33.78 ID:zC6HvYli0<> 空飛ぶタイヤが普通になれば文句言われなくなるしな <br> カルテル業界団体の全体主義だわな <>\\nウィズコロナの名無しさん<>sage<>2023/12/24(日) 22:09:40.37 ID:FrjlOd080<> 寒波だってスタッドレスに履き替えたんだろ <br> 琉球土人は <>\\nウィズコロナの名無しさん<>sage<>2023/12/24(日) 22:14:44.71 ID:khUp7mng0<> <a href=\"../test/read.cgi/newsplus/1703420273/9\" rel=\"noopener noreferrer\" target=\"_blank\">&gt;&gt;9</a> <br> イギリスとかどうしてるんだろう <>\\nウィズコロナの名無しさん<><>2023/12/24(日) 22:16:03.08 ID:XQvRO/510<> 最近タイヤミサイル多いな <>\\nウィズコロナの名無しさん<>sage<>2023/12/24(日) 22:29:27.46 ID:QVIn7yOk0<> 大型車は左折禁止にすれば緩みにくくなる <>\\nウィズコロナの名無しさん<><>2023/12/24(日) 22:47:33.53 ID:YIVKWaR+0<> ほんまや直近のタイヤ事故全部左後輪やん <br> 規格的になんか欠陥あるんか <>\\nウィズコロナの名無しさん<><>2023/12/24(日) 23:24:03.63 ID:MH34kZgX0<> 職業訓練でトラック協会がやってる大型一種のやつ申し込んだけど落ちた <br> もう絶対やってやらんから <br> なにが2024年問題だよハゲ物流なんて止まっちまえよ <>\\nウィズコロナの名無しさん<>sage<>2023/12/24(日) 23:27:58.32 ID:heF9k2lO0<> 定員オーバーしたのでは <>\\nウィズコロナの名無しさん<>sage<>2023/12/24(日) 23:30:27.82 ID:8m/o7iZu0<> ワンダースリー♪ <>\\nウィズコロナの名無しさん<>sage<>2023/12/24(日) 23:36:51.69 ID:L06AIbsv0<> <a href=\"../test/read.cgi/newsplus/1703420273/1\" rel=\"noopener noreferrer\" target=\"_blank\">&gt;&gt;1</a> <br> 沖縄で <br> \\u300010トントラック <br> \\u3000\\u3000安倍しぐさ <>\\nウィズコロナの名無しさん<><>2023/12/24(日) 23:41:29.39 ID:SyxNXFv70<> 最近のタイヤ脱落事故の9割が新ISO方式の装着で、 <br> その多くが左後輪なんでしょ？ <>\\nウィズコロナの名無しさん<>sage<>2023/12/25(月) 00:19:53.63 ID:1oQbHSe20<> おっかねえ、トラックのタイヤなんて飛んで来たら死ねるわ <>\\nウィズコロナの名無しさん<>sage<>2023/12/25(月) 00:22:38.33 ID:MBsuCwRN0<> お前ら別スレじゃこのトラックはISO基準よりもだいぶ古いやつだから違うって言ってただろw <>\\nウィズコロナの名無しさん<>sage<>2023/12/25(月) 00:31:29.93 ID:a3cM1BIS0<> JISって外側を外してからじゃないと内側を緩める事が出来ないなら <br> この訳の判らん記事から察するに <br> 内側が外れってのは外と内が同時にぶっ飛ぶISOな気がする <br> 外のタイヤはすぐに路肩で倒れた <br> 内側のタイヤが色んな物に突撃したのかな？なんて思ってみたり <>\\nウィズコロナの名無しさん<>sage<>2023/12/25(月) 00:42:28.98 ID:0430Lubt0<> 老害に当たれば吉報だったのに <br> https://i.imgur.com/F7mlr8P.jpg <>\\nウィズコロナの名無しさん<><>2023/12/25(月) 00:55:33.66 ID:FWaOMKIE0<> <a href=\"../test/read.cgi/newsplus/1703420273/16\" rel=\"noopener noreferrer\" target=\"_blank\">&gt;&gt;16</a> <br> 航空機みたいにポルトやナットに穴が空いててワイヤー通して締める方向にテンションをかけておくとか。 <>\\nウィズコロナの名無しさん<>sage<>2023/12/25(月) 00:59:07.70 ID:5lV+J6JI0<> <a href=\"../test/read.cgi/newsplus/1703420273/28\" rel=\"noopener noreferrer\" target=\"_blank\">&gt;&gt;28</a> <br> 違法改造よりISＯ規格を禁止すべきだよな <>\\nウィズコロナの名無しさん<><>2023/12/25(月) 01:07:42.86 ID:lY7xN01Y0<> 前に園児に当たったジムニーのタイヤとどっち危険なの？ <>\\nウィズコロナの名無しさん<>sage<>2023/12/25(月) 01:10:39.81 ID:+dZihHpu0<> これ後続が軽だったら怪我人でてた？ <>\\nウィズコロナの名無しさん<>sage<>2023/12/25(月) 01:15:39.11 ID:C10gQ3Tl0<> <a href=\"../test/read.cgi/newsplus/1703420273/65\" rel=\"noopener noreferrer\" target=\"_blank\">&gt;&gt;65</a> <br> なんか割りピン入れるんだっけか？ <>\\nウィズコロナの名無しさん<>age<>2023/12/25(月) 01:23:38.35 ID:q1k4u/is0<> <a href=\"../test/read.cgi/newsplus/1703420273/66\" rel=\"noopener noreferrer\" target=\"_blank\">&gt;&gt;66</a> <br> 国土交通省がメーカーに国内向け(JIS)と輸出用(ISO)で別々に生産させれば良さそうだね <>\\nウィズコロナの名無しさん<>sage<>2023/12/25(月) 01:25:47.51 ID:wO//o14n0<> <a href=\"../test/read.cgi/newsplus/1703420273/48\" rel=\"noopener noreferrer\" target=\"_blank\">&gt;&gt;48</a> <br> そういう話じゃないと思う <br> 今までよく起きてた珍しくない事故が <br> 話題性で取り上げられるようになって <br> まるで急に多発してるように見えるって事だろ <>\\nウィズコロナの名無しさん<><>2023/12/25(月) 01:35:45.73 ID:hSjMFAvx0<> 最近外れすぎだろ <>\\nウィズコロナの名無しさん<><>2023/12/25(月) 01:40:45.62 ID:lY7xN01Y0<> <a href=\"../test/read.cgi/newsplus/1703420273/72\" rel=\"noopener noreferrer\" target=\"_blank\">&gt;&gt;72</a> <br> いやいや <br> 人が死なないからニュースにしてなかっただけだろ <br> 外れただけなら毎日全国の都道府県で一日数件は起きてるだろ <>\\nウィズコロナの名無しさん<>sage<>2023/12/25(月) 02:14:22.49 ID:B3mynz8w0<> 最近多いな <>\\nウィズコロナの名無しさん<><>2023/12/25(月) 02:30:38.31 ID:y53xZhRc0<> <a href=\"../test/read.cgi/newsplus/1703420273/72\" rel=\"noopener noreferrer\" target=\"_blank\">&gt;&gt;72</a> <br> 整備員「ピンハネされすぎてボルトがないんです。」 <br> 客「俺等が払った修理費は？」 <br>  <br>  <br> 会計＆監査「社長のアウディに消えました&#128149;」 <>\\nウィズコロナの名無しさん<><>2023/12/25(月) 02:31:40.86 ID:CFX8xkxJ0<> また、三菱？ <>\\nウィズコロナの名無しさん<><>2023/12/25(月) 02:51:16.67 ID:lY7xN01Y0<> <a href=\"../test/read.cgi/newsplus/1703420273/74\" rel=\"noopener noreferrer\" target=\"_blank\">&gt;&gt;74</a> <br> いや実際には元からこんなもんだよ <>\\nウィズコロナの名無しさん<>sage<>2023/12/25(月) 03:36:52.67 ID:65/tTpQ00<> タイヤとホイール&#128734;て <br> 想像の10倍重たいよね <>\\nウィズコロナの名無しさん<>sage<>2023/12/25(月) 06:13:57.14 ID:Bz+Hbe0W0<> <a href=\"../test/read.cgi/newsplus/1703420273/71\" rel=\"noopener noreferrer\" target=\"_blank\">&gt;&gt;71</a> <br> お前が<a href=\"../test/read.cgi/newsplus/1703420273/48\" rel=\"noopener noreferrer\" target=\"_blank\">&gt;&gt;48</a>が言わんとしてる事分かってないと思う <>\\nウィズコロナの名無しさん<>sage<>2023/12/25(月) 07:02:54.17 ID:d64W8byX0<> この前もタイヤ外れる事故があったよな <br> 確かそっちもトラックだったような <>\\nウィズコロナの名無しさん<><>2023/12/25(月) 11:38:29.49 ID:yRFpqw8x0<> ISOはジャップ規格つぶし <>\\nウィズコロナの名無しさん<>sage<>2023/12/25(月) 13:17:59.95 ID:OPuSM0C00<> 90年代のISO取得ブームに警鐘を鳴らしていたわしの言うこと聞かんからこうなる <>\\nウィズコロナの名無しさん<><>2023/12/25(月) 13:18:21.57 ID:PvTJiSWc0<> <a href=\"../test/read.cgi/newsplus/1703420273/71\" rel=\"noopener noreferrer\" target=\"_blank\">&gt;&gt;71</a> <br> 大型車のタイヤホイール脱落はここ10年で急増してて <br> その理由も明確になってる <>\\nウィズコロナの名無しさん<>sage<>2023/12/25(月) 13:22:56.07 ID:OPuSM0C00<> 日本の生産性を下げている原因ISO規格 <br> 無駄な書類と無駄な監査 <>\\nウィズコロナの名無しさん<><>2023/12/25(月) 13:25:44.34 ID:Lv8jq1nu0<> <a href=\"../test/read.cgi/newsplus/1703420273/77\" rel=\"noopener noreferrer\" target=\"_blank\">&gt;&gt;77</a> <br> お前は情報弱者か？ <br>  <br> 大型車のタイヤ脱落事故発生件数 <br> https://pbs.twimg.com/media/FEdMMMTaAAAQuS8.jpg <>\\nウィズコロナの名無しさん<>sage<>2023/12/25(月) 13:31:48.99 ID:98Vsbgpf0<> <a href=\"../test/read.cgi/newsplus/1703420273/85\" rel=\"noopener noreferrer\" target=\"_blank\">&gt;&gt;85</a> <br> 9年&#65374;13年がたまたまラッキーだったとか… <br> https://i.imgur.com/m2kMiYn.jpg <>\\nウィズコロナの名無しさん<><>2023/12/25(月) 13:40:04.33 ID:BLUJGa+K0<> スクールバスって米軍のやつやな <>\\nウィズコロナの名無しさん<>sage<>2023/12/25(月) 13:46:57.72 ID:sqpYBG2P0<> 空飛ぶタイヤがまだあるのか <>\\n')\n"
     ]
    }
   ],
   "source": [
    "%reset -f\n",
    "import ThreadConnector as main\n",
    "\n",
    "s = \"https://hayabusa.open2ch.net/livejupiter/dat/1703337908.dat\"\n",
    "s2 = \"https://r-1317.github.io/portfolio2/\"\n",
    "s3 = \"https://asahi.5ch.net/newsplus/dat/1703420273.dat\"\n",
    "\n",
    "print(main.get_dat(s3))"
   ]
  },
  {
   "cell_type": "code",
   "execution_count": 3,
   "metadata": {},
   "outputs": [
    {
     "name": "stdout",
     "output_type": "stream",
     "text": [
      "False\n"
     ]
    }
   ],
   "source": [
    "a = 256\n",
    "if  not a:\n",
    "  print(True)\n",
    "else:\n",
    "  print(False)"
   ]
  },
  {
   "cell_type": "code",
   "execution_count": 1,
   "metadata": {},
   "outputs": [
    {
     "name": "stdout",
     "output_type": "stream",
     "text": [
      "datを'test.dat'として保存しました。\n",
      "htmlを'test.html'として保存しました。\n"
     ]
    }
   ],
   "source": [
    "%reset -f\n",
    "import ThreadConnector as main\n",
    "\n",
    "main.output(\"test.dat\", \"aaaaaaaaaaaaaaaaaaaaaaaa\")\n",
    "main.output(\"test.html\", \"bbbbbbbbbbbbbbbbbbbbbbbb\")"
   ]
  },
  {
   "cell_type": "code",
   "execution_count": 1,
   "metadata": {},
   "outputs": [
    {
     "data": {
      "text/plain": [
       "'https://mao.5ch.net/test/read.cgi/linux/1639899624'"
      ]
     },
     "execution_count": 1,
     "metadata": {},
     "output_type": "execute_result"
    }
   ],
   "source": [
    "%reset -f\n",
    "import ThreadConnector as main\n",
    "\n",
    "dat = \"\"\"\n",
    "!omikuji!dama <small></small> </b>(ｱｳｱｳｸｰ MMd7-PJmr)<b><>sage<>2023/04/05(水) 19:44:35.55 ID:yOYiHrlqM<> !extend:checked:vvvvv:1000:512 <br> !extend:checked:vvvvv:1000:512 <br> ↑これを2行になるようにコピペしてからスレ立てしてください <br>  <br> Ubuntu派生のディストリビューション、Linux Mintのスレッド <br> LMDE(Debian Edition)も含めまったりと <br>  <br> Linux Mint 公式 <br> https://linuxmint.com/ <br>  <br> Cinnamon <br> http://developer.linuxmint.com/ <br> MATE <br> https://mate-desktop.org/ <br> Xfce <br> https://www.xfce.org/ <br>  <br> ■　前スレ <br> Linux Mint 37【ワ有】 <br> https://mao.5ch.net/test/read.cgi/linux/1639899624 <br> ■　関連スレ <br> 【LMDE】Linux Mint Debian Edition <br> https://mao.5ch.net/test/read.cgi/linux/1620038475/ <hr>VIPQ2_EXTDAT: checked:vvvvv:1000:512:: EXT was configured <>Linux Mint 38【ワ有】 \n",
    "login:Penguin </b>(ﾜｯﾁｮｲ 5fa1-oy0P)<b><><>2023/04/06(木) 15:19:09.15 ID:97bVJ+Qx0<> 安倍晋三 <>\n",
    "login:Penguin </b>(ﾃﾃﾝﾃﾝﾃﾝ MM4f-wbSN)<b><>sage<>2023/04/07(金) 15:00:56.80 ID:vjlmuQs2M<> 既にLMDEがメインになったんだろうな <br> 動作が全然スムーズやで <>\n",
    "login:Penguin </b>(ﾜｯﾁｮｲ 7f0e-9bFa)<b><>sage<>2023/04/07(金) 16:57:44.58 ID:oRVPc2T+0<> rolling release 扱い　もしくは upgrade toolが提供されれば <br> LMDEに移行するよ <br>  <br> なぜ糞ubuntuにこだわるのか理解不能 <>\n",
    "login:Penguin </b>(ﾜｯﾁｮｲ 6e6c-7ouD)<b><>sage<>2023/04/08(土) 01:10:03.36 ID:i4YcwNCH0<> 指紋認証って可能でしょうか <br> ケンジントンの指紋リーダー買ったが <br> 設定見ても見当たらないのだけど <>\n",
    "login:Penguin </b>(ｱｳｱｳｳｰ Sa05-8fTZ)<b><>sage<>2023/04/08(土) 21:36:58.24 ID:uGMttb3sa<> <a href=\"../test/read.cgi/linux/1680691475/5\" rel=\"noopener noreferrer\" target=\"_blank\">&gt;&gt;5</a> <br> やった事ないのでわかんないんだけども、redditにあった <br> なんか最悪だとかいってますね <br>  <br> https://www.reddit.com/r/linuxmint/comments/zfj3td/how_to_get_fingerprint_reader_working_on_mint_21/ <>\n",
    "login:Penguin </b>(ｱｳｱｳｳｰ Sa05-8fTZ)<b><>sage<>2023/04/08(土) 21:39:24.24 ID:uGMttb3sa<> 自分はCinnamon使ってるんですが、この機能が欲しいなあ <br>  <br> ウィンドウを縦横きれいに並べるWindows 11のスナップレイアウトを使いこなす <br> https://pc.watch.impress.co.jp/docs/column/win11tec/1367619.html <>\n",
    "login:Penguin </b>(ｱｳｱｳｳｰ Sa05-8fTZ)<b><>sage<>2023/04/08(土) 22:03:03.16 ID:uGMttb3sa<> <a href=\"../test/read.cgi/linux/1680691475/7\" rel=\"noopener noreferrer\" target=\"_blank\">&gt;&gt;7</a> <br> すいません、自己解決 <br> 拡張機能でありました！lucky&#8252; <>\n",
    "\"\"\"\n",
    "\n",
    "dat2 = \"\"\n",
    "main.find_url(dat)"
   ]
  },
  {
   "cell_type": "code",
   "execution_count": 1,
   "metadata": {},
   "outputs": [
    {
     "name": "stdout",
     "output_type": "stream",
     "text": [
      "\n",
      "<!DOCTYPE html>\n",
      "<html lang=\"ja\">\n",
      "  <head>\n",
      "  <meta charset=\"Shift_JIS\">\n",
      "  </head>\n",
      "  <body text=\"#000000\" link=\"#0000FF\" alink=\"#FF0000\" vlink=\"#660099\" bgcolor=\"#EFEFEF\">\n",
      "  0：<font color=\"#228811\"><b>ばーど ★</b></font>：2023/12/26(火) 06:54:57.61 ID:AYVvlyb79<br>\n",
      " 内閣府は２５日、２０２２年の名目ＧＤＰ（国内総生産）のドル換算額が前年比１５．４％減の４兆２６０１億ドルと、米国、中国に次ぐ世界３位だったと発表した。円安・ドル高の影響で大きく減少し、４位のドイツが約１８００億ドル差に迫った。１人当たりの名目ＧＤＰはイタリアに抜かれ、先進７カ国（Ｇ７）で最下位だった。 <br>  <br> ２３年のＧＤＰ総額は、国際通貨基金（ＩＭＦ）が１０月、日本はドイツに抜かれて４位へ転落するとの見通しを示している。 <br> 　 <br> ２２年のＧＤＰは、世界全体に占める日本の割合が４．２％と、前年の５．１％から低下し、比較可能な１９８０年以降で最低。首位の米国は総額２５兆４３９７億ドルで世界の２５．１％、２位中国は１７兆９６３２億ドルで１７．７％だった。 <br>  <br> 時事通信社 2023-12-25 18:38 <br> https://sp.m.jiji.com/article/show/3129370 <br>  <br> ※関連スレ <br> 22年の1人あたりGDP、G7で最下位　円安で順位下げる ★2  [ばーど★] <br> https://asahi.5ch.net/test/read.cgi/newsplus/1703508590/ <br> GDP予測、日本は4位転落 ★9  [ばーど★] <br> https://asahi.5ch.net/test/read.cgi/newsplus/1698137417/ <br><br>\n",
      "1：<font color=\"#228811\"><b></b></font>： 内閣府は２５日、２０２２年の名目ＧＤＰ（国内総生産）のドル換算額が前年比１５．４％減の４兆２６０１億ドルと、米国、中国に次ぐ世界３位だったと発表した。円安・ドル高の影響で大きく減少し、４位のドイツが約１８００億ドル差に迫った。１人当たりの名目ＧＤＰはイタリアに抜かれ、先進７カ国（Ｇ７）で最下位だった。 <br>  <br> ２３年のＧＤＰ総額は、国際通貨基金（ＩＭＦ）が１０月、日本はドイツに抜かれて４位へ転落するとの見通しを示している。 <br> 　 <br> ２２年のＧＤＰは、世界全体に占める日本の割合が４．２％と、前年の５．１％から低下し、比較可能な１９８０年以降で最低。首位の米国は総額２５兆４３９７億ドルで世界の２５．１％、２位中国は１７兆９６３２億ドルで１７．７％だった。 <br>  <br> 時事通信社 2023-12-25 18:38 <br> https://sp.m.jiji.com/article/show/3129370 <br>  <br> ※関連スレ <br> 22年の1人あたりGDP、G7で最下位　円安で順位下げる ★2  [ばーど★] <br> https://asahi.5ch.net/test/read.cgi/newsplus/1703508590/ <br> GDP予測、日本は4位転落 ★9  [ばーど★] <br> https://asahi.5ch.net/test/read.cgi/newsplus/1698137417/ <br>\n",
      "【GDP】日本は4位、ドイツ肉薄　1人あたりは21位、イタリアに抜かれG7最下位　2022年  [ばーど★]\n",
      "ウィズコロナの名無しさん<br><br>\n",
      "2：<font color=\"#228811\"><b>2023/12/26(火) 06:54:57.61 ID:AYVvlyb79</b></font>：【GDP】日本は4位、ドイツ肉薄　1人あたりは21位、イタリアに抜かれG7最下位　2022年  [ばーど★]\n",
      "ウィズコロナの名無しさん<br>\n",
      "<br><br>\n",
      "3：<font color=\"#228811\"><b> 内閣府は２５日、２０２２年の名目ＧＤＰ（国内総生産）のドル換算額が前年比１５．４％減の４兆２６０１億ドルと、米国、中国に次ぐ世界３位だったと発表した。円安・ドル高の影響で大きく減少し、４位のドイツが約１８００億ドル差に迫った。１人当たりの名目ＧＤＰはイタリアに抜かれ、先進７カ国（Ｇ７）で最下位だった。 <br>  <br> ２３年のＧＤＰ総額は、国際通貨基金（ＩＭＦ）が１０月、日本はドイツに抜かれて４位へ転落するとの見通しを示している。 <br> 　 <br> ２２年のＧＤＰは、世界全体に占める日本の割合が４．２％と、前年の５．１％から低下し、比較可能な１９８０年以降で最低。首位の米国は総額２５兆４３９７億ドルで世界の２５．１％、２位中国は１７兆９６３２億ドルで１７．７％だった。 <br>  <br> 時事通信社 2023-12-25 18:38 <br> https://sp.m.jiji.com/article/show/3129370 <br>  <br> ※関連スレ <br> 22年の1人あたりGDP、G7で最下位　円安で順位下げる ★2  [ばーど★] <br> https://asahi.5ch.net/test/read.cgi/newsplus/1703508590/ <br> GDP予測、日本は4位転落 ★9  [ばーど★] <br> https://asahi.5ch.net/test/read.cgi/newsplus/1698137417/ </b></font>：<br>\n",
      "2023/12/26(火) 06:55:28.20 ID:oDAO24zj0<br><br>\n",
      "4：<font color=\"#228811\"><b>【GDP】日本は4位、ドイツ肉薄　1人あたりは21位、イタリアに抜かれG7最下位　2022年  [ばーど★]\n",
      "ウィズコロナの名無しさん</b></font>：2023/12/26(火) 06:55:28.20 ID:oDAO24zj0<br>\n",
      " 失われた <br>  <br> ３０年 <br><br>\n",
      "5：<font color=\"#228811\"><b></b></font>： 失われた <br>  <br> ３０年 <br>\n",
      "\n",
      "ウィズコロナの名無しさん<br><br>\n",
      "6：<font color=\"#228811\"><b>2023/12/26(火) 06:55:28.20 ID:oDAO24zj0</b></font>：\n",
      "ウィズコロナの名無しさん<br>\n",
      "sage<br><br>\n",
      "7：<font color=\"#228811\"><b> 失われた <br>  <br> ３０年 </b></font>：sage<br>\n",
      "2023/12/26(火) 06:55:45.66 ID:HmoD9SbL0<br><br>\n",
      "8：<font color=\"#228811\"><b>\n",
      "ウィズコロナの名無しさん</b></font>：2023/12/26(火) 06:55:45.66 ID:HmoD9SbL0<br>\n",
      " 自民党のおかげだねｗｗｗｗｗｗｗｗ <br><br>\n",
      "9：<font color=\"#228811\"><b>sage</b></font>： 自民党のおかげだねｗｗｗｗｗｗｗｗ <br>\n",
      "\n",
      "ウィズコロナの名無しさん<br><br>\n",
      "10：<font color=\"#228811\"><b>2023/12/26(火) 06:55:45.66 ID:HmoD9SbL0</b></font>：\n",
      "ウィズコロナの名無しさん<br>\n",
      "<br><br>\n",
      "11：<font color=\"#228811\"><b> 自民党のおかげだねｗｗｗｗｗｗｗｗ </b></font>：<br>\n",
      "2023/12/26(火) 06:56:11.26 ID:FQhC5qC/0<br><br>\n",
      "12：<font color=\"#228811\"><b>\n",
      "ウィズコロナの名無しさん</b></font>：2023/12/26(火) 06:56:11.26 ID:FQhC5qC/0<br>\n",
      " 中抜きばっかりしてたらそうなるわ <br><br>\n",
      "\n"
     ]
    }
   ],
   "source": [
    "%reset -f\n",
    "import ThreadConnector as main\n",
    "s = \"\"\"ばーど ★<><>2023/12/26(火) 06:54:57.61 ID:AYVvlyb79<> 内閣府は２５日、２０２２年の名目ＧＤＰ（国内総生産）のドル換算額が前年比１５．４％減の４兆２６０１億ドルと、米国、中国に次ぐ世界３位だったと発表した。円安・ドル高の影響で大きく減少し、４位のドイツが約１８００億ドル差に迫った。１人当たりの名目ＧＤＰはイタリアに抜かれ、先進７カ国（Ｇ７）で最下位だった。 <br>  <br> ２３年のＧＤＰ総額は、国際通貨基金（ＩＭＦ）が１０月、日本はドイツに抜かれて４位へ転落するとの見通しを示している。 <br> 　 <br> ２２年のＧＤＰは、世界全体に占める日本の割合が４．２％と、前年の５．１％から低下し、比較可能な１９８０年以降で最低。首位の米国は総額２５兆４３９７億ドルで世界の２５．１％、２位中国は１７兆９６３２億ドルで１７．７％だった。 <br>  <br> 時事通信社 2023-12-25 18:38 <br> https://sp.m.jiji.com/article/show/3129370 <br>  <br> ※関連スレ <br> 22年の1人あたりGDP、G7で最下位　円安で順位下げる ★2  [ばーど★] <br> https://asahi.5ch.net/test/read.cgi/newsplus/1703508590/ <br> GDP予測、日本は4位転落 ★9  [ばーど★] <br> https://asahi.5ch.net/test/read.cgi/newsplus/1698137417/ <>【GDP】日本は4位、ドイツ肉薄　1人あたりは21位、イタリアに抜かれG7最下位　2022年  [ばーど★]\n",
    "ウィズコロナの名無しさん<><>2023/12/26(火) 06:55:28.20 ID:oDAO24zj0<> 失われた <br>  <br> ３０年 <>\n",
    "ウィズコロナの名無しさん<>sage<>2023/12/26(火) 06:55:45.66 ID:HmoD9SbL0<> 自民党のおかげだねｗｗｗｗｗｗｗｗ <>\n",
    "ウィズコロナの名無しさん<><>2023/12/26(火) 06:56:11.26 ID:FQhC5qC/0<> 中抜きばっかりしてたらそうなるわ <>\n",
    "ウィズコロナの名無しさん<><>2023/12/26(火) 06:56:24.69 ID:QXFAh2+G0<> 集団ストーカーを知ってしまったんだ <>\n",
    "ウィズコロナの名無しさん<><>2023/12/26(火) 06:56:29.22 ID:BNy3pXOO0<> いい大学に行っていい会社に就職しなさい。そうすれば年功序列で一生安泰だから。 <br> 生まれてきたことを親に感謝しなさい。 <br> 人生は公平だからね。 <>\n",
    "ウィズコロナの名無しさん<>sage<>2023/12/26(火) 06:56:51.94 ID:NUsUdJUE0<> 無理せずのんびりいこう <br> もう後進国でいいじゃないか <>\n",
    "ウィズコロナの名無しさん<>sage<>2023/12/26(火) 06:56:58.91 ID:s7jdRH0R0<> そのうちギリシャ以下で働かない国民とか言われるんだろ <br> 日本の休日数は異常 <>\n",
    "ウィズコロナの名無しさん<><>2023/12/26(火) 06:57:16.94 ID:m6FUj/bb0<> 財務省と竹中平蔵が目指す貧困国日本 <>\n",
    "ウィズコロナの名無しさん<><>2023/12/26(火) 06:57:20.60 ID:8f0a9i1H0<> G7で最下位 <>\n",
    "ウィズコロナの名無しさん<>sage<>2023/12/26(火) 06:57:59.54 ID:GyHGT2H+0<> そりゃそうじゃ <>\n",
    "ウィズコロナの名無しさん<>sage<>2023/12/26(火) 06:58:11.71 ID:s5KRT3f70<> 抜きつ抜かれつのデッドヒート <>\n",
    "ウィズコロナの名無しさん<><>2023/12/26(火) 06:58:14.84 ID:FENiW1Z50<> 円安のせいで実質賃金19ヶ月連続マイナス <br> 円安物価高のせいで、日本人は実質消費支出8ヶ月連続マイナスまで生活をきりつめている <br>  <br> 円安で豪遊するのは、外国人観光客ばかり <br>  <br> 大企業や外国人観光客よりも、日本人のための政治を <>\n",
    "\"\"\"\n",
    "print(main.convert_data(s))"
   ]
  },
  {
   "cell_type": "code",
   "execution_count": 4,
   "metadata": {},
   "outputs": [
    {
     "name": "stdout",
     "output_type": "stream",
     "text": [
      "https://mao.5ch.net/network/dat/1027327671.dat\n"
     ]
    }
   ],
   "source": [
    "%reset -f\n",
    "import ThreadConnector as main\n",
    "\n",
    "s = \"https://mao.5ch.net/test/read.cgi/linux/1639934101/l50?v=pc\"\n",
    "s2 = \"https://mao.5ch.net/test/read.cgi/linux/1639934101/362-461\"\n",
    "s3 =\"https://mao.5ch.net/test/read.cgi/network/1027327671/81-n?v=pc\"\n",
    "print(main.convert_url(s3))"
   ]
  },
  {
   "cell_type": "code",
   "execution_count": 3,
   "metadata": {},
   "outputs": [
    {
     "name": "stdout",
     "output_type": "stream",
     "text": [
      "abc.html\n"
     ]
    }
   ],
   "source": [
    "filename = \"abc.dat\"\n",
    "\n",
    "html_filename = filename[:-3] + \"html\"\n",
    "print(html_filename)"
   ]
  }
 ],
 "metadata": {
  "kernelspec": {
   "display_name": "Python 3",
   "language": "python",
   "name": "python3"
  },
  "language_info": {
   "codemirror_mode": {
    "name": "ipython",
    "version": 3
   },
   "file_extension": ".py",
   "mimetype": "text/x-python",
   "name": "python",
   "nbconvert_exporter": "python",
   "pygments_lexer": "ipython3",
   "version": "3.11.4"
  }
 },
 "nbformat": 4,
 "nbformat_minor": 2
}
